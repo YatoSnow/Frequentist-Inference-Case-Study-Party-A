{
  "cells": [
    {
      "cell_type": "markdown",
      "metadata": {
        "id": "8VLUn_9P39NJ"
      },
      "source": [
        "# Frequentist Inference Case Study - Part A"
      ]
    },
    {
      "cell_type": "markdown",
      "metadata": {
        "id": "mQ5Fk18C39NL"
      },
      "source": [
        "## 1. Learning objectives"
      ]
    },
    {
      "cell_type": "markdown",
      "metadata": {
        "id": "kIy22h3J39NL"
      },
      "source": [
        "Welcome to part A of the Frequentist inference case study! The purpose of this case study is to help you apply the concepts associated with Frequentist inference in Python. Frequentist inference is the process of deriving conclusions about an underlying distribution via the observation of data. In particular, you'll practice writing Python code to apply the following statistical concepts:\n",
        "* the _z_-statistic\n",
        "* the _t_-statistic\n",
        "* the difference and relationship between the two\n",
        "* the Central Limit Theorem, including its assumptions and consequences\n",
        "* how to estimate the population mean and standard deviation from a sample\n",
        "* the concept of a sampling distribution of a test statistic, particularly for the mean\n",
        "* how to combine these concepts to calculate a confidence interval"
      ]
    },
    {
      "cell_type": "markdown",
      "metadata": {
        "id": "fN4QG3go39NL"
      },
      "source": [
        "## Prerequisites"
      ]
    },
    {
      "cell_type": "markdown",
      "metadata": {
        "id": "C-i2sjPr39NL"
      },
      "source": [
        "To be able to complete this notebook, you are expected to have a basic understanding of:\n",
        "* what a random variable is (p.400 of Professor Spiegelhalter's *The Art of Statistics, hereinafter AoS*)\n",
        "* what a population, and a population distribution, are (p. 397 of *AoS*)\n",
        "* a high-level sense of what the normal distribution is (p. 394 of *AoS*)\n",
        "* what the t-statistic is (p. 275 of *AoS*)\n",
        "\n",
        "Happily, these should all be concepts with which you are reasonably familiar after having read ten chapters of Professor Spiegelhalter's book, *The Art of Statistics*.\n",
        "\n",
        "We'll try to relate the concepts in this case study back to page numbers in *The Art of Statistics* so that you can focus on the Python aspects of this case study. The second part (part B) of this case study will involve another, more real-world application of these tools."
      ]
    },
    {
      "cell_type": "markdown",
      "metadata": {
        "id": "t9IrT_6T39NM"
      },
      "source": [
        "For this notebook, we will use data sampled from a known normal distribution. This allows us to compare our results with theoretical expectations."
      ]
    },
    {
      "cell_type": "markdown",
      "metadata": {
        "id": "LbI66JzD39NM"
      },
      "source": [
        "## 2. An introduction to sampling from the normal distribution"
      ]
    },
    {
      "cell_type": "markdown",
      "metadata": {
        "id": "hFRDsI4M39NM"
      },
      "source": [
        "First, let's explore the ways we can generate the normal distribution. While there's a fair amount of interest in [sklearn](https://scikit-learn.org/stable/) within the machine learning community, you're likely to have heard of [scipy](https://docs.scipy.org/doc/scipy-0.15.1/reference/index.html) if you're coming from the sciences. For this assignment, you'll use [scipy.stats](https://docs.scipy.org/doc/scipy-0.15.1/reference/tutorial/stats.html) to complete your work.\n",
        "\n",
        "This assignment will require some digging around and getting your hands dirty (your learning is maximized that way)! You should have the research skills and the tenacity to do these tasks independently, but if you struggle, reach out to your immediate community and your mentor for help."
      ]
    },
    {
      "cell_type": "code",
      "execution_count": null,
      "metadata": {
        "id": "3AuWfGmD39NM"
      },
      "outputs": [],
      "source": [
        "from scipy.stats import norm\n",
        "from scipy.stats import t\n",
        "import numpy as np\n",
        "import pandas as pd\n",
        "from numpy.random import seed\n",
        "import matplotlib.pyplot as plt"
      ]
    },
    {
      "cell_type": "markdown",
      "metadata": {
        "id": "HWOy_wpg39NN"
      },
      "source": [
        "__Q1:__ Call up the documentation for the `norm` function imported above. (Hint: that documentation is [here](https://docs.scipy.org/doc/scipy/reference/generated/scipy.stats.norm.html)). What is the second listed method?"
      ]
    },
    {
      "cell_type": "markdown",
      "metadata": {
        "id": "ZXDhdn3P39NN"
      },
      "source": [
        "__A:__  pdf"
      ]
    },
    {
      "cell_type": "code",
      "source": [
        "help(norm)\n"
      ],
      "metadata": {
        "colab": {
          "base_uri": "https://localhost:8080/"
        },
        "id": "cWlE2i8ieIfw",
        "outputId": "14a5af6a-c5b8-4788-d853-0ac3d9ce35e6"
      },
      "execution_count": null,
      "outputs": [
        {
          "output_type": "stream",
          "name": "stdout",
          "text": [
            "Help on norm_gen in module scipy.stats._continuous_distns:\n",
            "\n",
            "<scipy.stats._continuous_distns.norm_gen object>\n",
            "    A normal continuous random variable.\n",
            "\n",
            "    The location (``loc``) keyword specifies the mean.\n",
            "    The scale (``scale``) keyword specifies the standard deviation.\n",
            "\n",
            "    As an instance of the `rv_continuous` class, `norm` object inherits from it\n",
            "    a collection of generic methods (see below for the full list),\n",
            "    and completes them with details specific for this particular distribution.\n",
            "\n",
            "    Methods\n",
            "    -------\n",
            "    rvs(loc=0, scale=1, size=1, random_state=None)\n",
            "        Random variates.\n",
            "    pdf(x, loc=0, scale=1)\n",
            "        Probability density function.\n",
            "    logpdf(x, loc=0, scale=1)\n",
            "        Log of the probability density function.\n",
            "    cdf(x, loc=0, scale=1)\n",
            "        Cumulative distribution function.\n",
            "    logcdf(x, loc=0, scale=1)\n",
            "        Log of the cumulative distribution function.\n",
            "    sf(x, loc=0, scale=1)\n",
            "        Survival function  (also defined as ``1 - cdf``, but `sf` is sometimes more accurate).\n",
            "    logsf(x, loc=0, scale=1)\n",
            "        Log of the survival function.\n",
            "    ppf(q, loc=0, scale=1)\n",
            "        Percent point function (inverse of ``cdf`` --- percentiles).\n",
            "    isf(q, loc=0, scale=1)\n",
            "        Inverse survival function (inverse of ``sf``).\n",
            "    moment(order, loc=0, scale=1)\n",
            "        Non-central moment of the specified order.\n",
            "    stats(loc=0, scale=1, moments='mv')\n",
            "        Mean('m'), variance('v'), skew('s'), and/or kurtosis('k').\n",
            "    entropy(loc=0, scale=1)\n",
            "        (Differential) entropy of the RV.\n",
            "    fit(data)\n",
            "        Parameter estimates for generic data.\n",
            "        See `scipy.stats.rv_continuous.fit <https://docs.scipy.org/doc/scipy/reference/generated/scipy.stats.rv_continuous.fit.html#scipy.stats.rv_continuous.fit>`__ for detailed documentation of the\n",
            "        keyword arguments.\n",
            "    expect(func, args=(), loc=0, scale=1, lb=None, ub=None, conditional=False, **kwds)\n",
            "        Expected value of a function (of one argument) with respect to the distribution.\n",
            "    median(loc=0, scale=1)\n",
            "        Median of the distribution.\n",
            "    mean(loc=0, scale=1)\n",
            "        Mean of the distribution.\n",
            "    var(loc=0, scale=1)\n",
            "        Variance of the distribution.\n",
            "    std(loc=0, scale=1)\n",
            "        Standard deviation of the distribution.\n",
            "    interval(confidence, loc=0, scale=1)\n",
            "        Confidence interval with equal areas around the median.\n",
            "\n",
            "    Notes\n",
            "    -----\n",
            "    The probability density function for `norm` is:\n",
            "\n",
            "    .. math::\n",
            "\n",
            "        f(x) = \\frac{\\exp(-x^2/2)}{\\sqrt{2\\pi}}\n",
            "\n",
            "    for a real number :math:`x`.\n",
            "\n",
            "    The probability density above is defined in the \"standardized\" form. To shift\n",
            "    and/or scale the distribution use the ``loc`` and ``scale`` parameters.\n",
            "    Specifically, ``norm.pdf(x, loc, scale)`` is identically\n",
            "    equivalent to ``norm.pdf(y) / scale`` with\n",
            "    ``y = (x - loc) / scale``. Note that shifting the location of a distribution\n",
            "    does not make it a \"noncentral\" distribution; noncentral generalizations of\n",
            "    some distributions are available in separate classes.\n",
            "\n",
            "    Examples\n",
            "    --------\n",
            "    >>> import numpy as np\n",
            "    >>> from scipy.stats import norm\n",
            "    >>> import matplotlib.pyplot as plt\n",
            "    >>> fig, ax = plt.subplots(1, 1)\n",
            "\n",
            "    Get the support:\n",
            "\n",
            "\n",
            "    >>> lb, ub = norm.support()\n",
            "\n",
            "    Calculate the first four moments:\n",
            "\n",
            "    >>> mean, var, skew, kurt = norm.stats(moments='mvsk')\n",
            "\n",
            "    Display the probability density function (``pdf``):\n",
            "\n",
            "    >>> x = np.linspace(norm.ppf(0.01),\n",
            "    ...                 norm.ppf(0.99), 100)\n",
            "    >>> ax.plot(x, norm.pdf(x),\n",
            "    ...        'r-', lw=5, alpha=0.6, label='norm pdf')\n",
            "\n",
            "    Alternatively, the distribution object can be called (as a function)\n",
            "    to fix the shape, location and scale parameters. This returns a \"frozen\"\n",
            "    RV object holding the given parameters fixed.\n",
            "\n",
            "    Freeze the distribution and display the frozen ``pdf``:\n",
            "\n",
            "    >>> rv = norm()\n",
            "    >>> ax.plot(x, rv.pdf(x), 'k-', lw=2, label='frozen pdf')\n",
            "\n",
            "    Check accuracy of ``cdf`` and ``ppf``:\n",
            "\n",
            "    >>> vals = norm.ppf([0.001, 0.5, 0.999])\n",
            "    >>> np.allclose([0.001, 0.5, 0.999], norm.cdf(vals))\n",
            "    True\n",
            "\n",
            "    Generate random numbers:\n",
            "\n",
            "    >>> r = norm.rvs(size=1000)\n",
            "\n",
            "    And compare the histogram:\n",
            "\n",
            "    >>> ax.hist(r, density=True, bins='auto', histtype='stepfilled', alpha=0.2)\n",
            "    >>> ax.set_xlim([x[0], x[-1]])\n",
            "    >>> ax.legend(loc='best', frameon=False)\n",
            "    >>> plt.show()\n",
            "\n"
          ]
        }
      ]
    },
    {
      "cell_type": "markdown",
      "metadata": {
        "id": "AN3g_nrJ39NN"
      },
      "source": [
        "__Q2:__ Use the method that generates random variates to draw five samples from the standard normal distribution."
      ]
    },
    {
      "cell_type": "markdown",
      "metadata": {
        "id": "4QOWfvud39NO"
      },
      "source": [
        "__A:__"
      ]
    },
    {
      "cell_type": "code",
      "execution_count": null,
      "metadata": {
        "id": "VSI9wt4t39NO"
      },
      "outputs": [],
      "source": [
        "seed(47)\n",
        "# draw five samples here\n",
        "samples = norm.rvs(size=5)\n"
      ]
    },
    {
      "cell_type": "markdown",
      "metadata": {
        "id": "9_mfeNyz39NO"
      },
      "source": [
        "__Q3:__ What is the mean of this sample? Is it exactly equal to the value you expected? Hint: the sample was drawn from the standard normal distribution. If you want a reminder of the properties of this distribution, check out p. 85 of *AoS*."
      ]
    },
    {
      "cell_type": "markdown",
      "metadata": {
        "id": "1u7zboYv39NO"
      },
      "source": [
        "__A:__"
      ]
    },
    {
      "cell_type": "code",
      "execution_count": null,
      "metadata": {
        "id": "v_B6RVgk39NO"
      },
      "outputs": [],
      "source": [
        "# Calculate and print the mean here, hint: use np.mean()\n",
        "samples_mean=samples.mean()\n"
      ]
    },
    {
      "cell_type": "markdown",
      "metadata": {
        "id": "ViVAsi8l39NO"
      },
      "source": [
        "__Q4:__ What is the standard deviation of these numbers? Calculate this manually here as $\\sqrt{\\frac{\\sum_i(x_i - \\bar{x})^2}{n}}$ (This is just the definition of **standard deviation** given by Professor Spiegelhalter on p.403 of *AoS*). Hint: np.sqrt() and np.sum() will be useful here and remember that numPy supports [broadcasting](https://docs.scipy.org/doc/numpy/user/basics.broadcasting.html)."
      ]
    },
    {
      "cell_type": "markdown",
      "metadata": {
        "id": "OYcjLnPs39NO"
      },
      "source": [
        "__A:__"
      ]
    },
    {
      "cell_type": "code",
      "execution_count": null,
      "metadata": {
        "colab": {
          "base_uri": "https://localhost:8080/"
        },
        "id": "ES3KtK1a39NO",
        "outputId": "a3f8fb6e-e724-4cbb-c989-ba6fb5b8d1a1"
      },
      "outputs": [
        {
          "output_type": "execute_result",
          "data": {
            "text/plain": [
              "np.float64(0.9606195639478641)"
            ]
          },
          "metadata": {},
          "execution_count": 6
        }
      ],
      "source": [
        "n = len(samples)\n",
        "manual_std = np.sqrt(np.sum((samples - samples_mean)**2) /n)\n",
        "manual_std"
      ]
    },
    {
      "cell_type": "markdown",
      "metadata": {
        "id": "3Mp6qqn239NO"
      },
      "source": [
        "Here we have calculated the actual standard deviation of a small data set (of size 5). But in this case, this small data set is actually a sample from our larger (infinite) population. In this case, the population is infinite because we could keep drawing our normal random variates until our computers die!\n",
        "\n",
        "In general, the sample mean we calculate will not be equal to the population mean (as we saw above). A consequence of this is that the sum of squares of the deviations from the _population_ mean will be bigger than the sum of squares of the deviations from the _sample_ mean. In other words, the sum of squares of the deviations from the _sample_ mean is too small to give an unbiased estimate of the _population_ variance. An example of this effect is given [here](https://en.wikipedia.org/wiki/Bessel%27s_correction#Source_of_bias). Scaling our estimate of the variance by the factor $n/(n-1)$ gives an unbiased estimator of the population variance. This factor is known as [Bessel's correction](https://en.wikipedia.org/wiki/Bessel%27s_correction). The consequence of this is that the $n$ in the denominator is replaced by $n-1$.\n",
        "\n",
        "You can see Bessel's correction reflected in Professor Spiegelhalter's definition of **variance** on p. 405 of *AoS*.\n",
        "\n",
        "__Q5:__ If all we had to go on was our five samples, what would be our best estimate of the population standard deviation? Use Bessel's correction ($n-1$ in the denominator), thus $\\sqrt{\\frac{\\sum_i(x_i - \\bar{x})^2}{n-1}}$."
      ]
    },
    {
      "cell_type": "markdown",
      "metadata": {
        "id": "04HQMaPH39NO"
      },
      "source": [
        "__A:__"
      ]
    },
    {
      "cell_type": "code",
      "execution_count": null,
      "metadata": {
        "colab": {
          "base_uri": "https://localhost:8080/"
        },
        "id": "QKEoDO8H39NO",
        "outputId": "cbfee49c-ba73-453b-82a3-57aa21a9ff81"
      },
      "outputs": [
        {
          "output_type": "execute_result",
          "data": {
            "text/plain": [
              "np.float64(1.0740053227518152)"
            ]
          },
          "metadata": {},
          "execution_count": 7
        }
      ],
      "source": [
        "s_bessel = np.sqrt(np.sum((samples - samples_mean)**2) / (n - 1))\n",
        "s_bessel"
      ]
    },
    {
      "cell_type": "markdown",
      "metadata": {
        "id": "jBTurcu239NO"
      },
      "source": [
        "__Q6:__ Now use numpy's std function to calculate the standard deviation of our random samples. Which of the above standard deviations did it return?"
      ]
    },
    {
      "cell_type": "markdown",
      "metadata": {
        "id": "M1bE8p0w39NP"
      },
      "source": [
        "__A:__"
      ]
    },
    {
      "cell_type": "code",
      "execution_count": null,
      "metadata": {
        "colab": {
          "base_uri": "https://localhost:8080/"
        },
        "id": "0rel1_LU39NP",
        "outputId": "c296fe1d-ab14-43f2-b416-ee72e977c23b"
      },
      "outputs": [
        {
          "output_type": "execute_result",
          "data": {
            "text/plain": [
              "np.float64(0.9606195639478641)"
            ]
          },
          "metadata": {},
          "execution_count": 8
        }
      ],
      "source": [
        "np.std(samples)\n"
      ]
    },
    {
      "cell_type": "markdown",
      "metadata": {
        "id": "nVtLzlLO39NP"
      },
      "source": [
        "__Q7:__ Consult the documentation for np.std() to see how to apply the correction for estimating the population parameter and verify this produces the expected result."
      ]
    },
    {
      "cell_type": "markdown",
      "metadata": {
        "id": "y4hBXjD_39NP"
      },
      "source": [
        "__A:__"
      ]
    },
    {
      "cell_type": "code",
      "execution_count": null,
      "metadata": {
        "colab": {
          "base_uri": "https://localhost:8080/"
        },
        "id": "igeJRa2139NP",
        "outputId": "d345427a-10b6-4c1d-abcb-b2edfe9c7646"
      },
      "outputs": [
        {
          "output_type": "stream",
          "name": "stdout",
          "text": [
            "Help on _ArrayFunctionDispatcher in module numpy:\n",
            "\n",
            "std(a, axis=None, dtype=None, out=None, ddof=0, keepdims=<no value>, *, where=<no value>, mean=<no value>, correction=<no value>)\n",
            "    Compute the standard deviation along the specified axis.\n",
            "\n",
            "    Returns the standard deviation, a measure of the spread of a distribution,\n",
            "    of the array elements. The standard deviation is computed for the\n",
            "    flattened array by default, otherwise over the specified axis.\n",
            "\n",
            "    Parameters\n",
            "    ----------\n",
            "    a : array_like\n",
            "        Calculate the standard deviation of these values.\n",
            "    axis : None or int or tuple of ints, optional\n",
            "        Axis or axes along which the standard deviation is computed. The\n",
            "        default is to compute the standard deviation of the flattened array.\n",
            "\n",
            "        .. versionadded:: 1.7.0\n",
            "\n",
            "        If this is a tuple of ints, a standard deviation is performed over\n",
            "        multiple axes, instead of a single axis or all the axes as before.\n",
            "    dtype : dtype, optional\n",
            "        Type to use in computing the standard deviation. For arrays of\n",
            "        integer type the default is float64, for arrays of float types it is\n",
            "        the same as the array type.\n",
            "    out : ndarray, optional\n",
            "        Alternative output array in which to place the result. It must have\n",
            "        the same shape as the expected output but the type (of the calculated\n",
            "        values) will be cast if necessary.\n",
            "        See :ref:`ufuncs-output-type` for more details.\n",
            "    ddof : {int, float}, optional\n",
            "        Means Delta Degrees of Freedom.  The divisor used in calculations\n",
            "        is ``N - ddof``, where ``N`` represents the number of elements.\n",
            "        By default `ddof` is zero. See Notes for details about use of `ddof`.\n",
            "    keepdims : bool, optional\n",
            "        If this is set to True, the axes which are reduced are left\n",
            "        in the result as dimensions with size one. With this option,\n",
            "        the result will broadcast correctly against the input array.\n",
            "\n",
            "        If the default value is passed, then `keepdims` will not be\n",
            "        passed through to the `std` method of sub-classes of\n",
            "        `ndarray`, however any non-default value will be.  If the\n",
            "        sub-class' method does not implement `keepdims` any\n",
            "        exceptions will be raised.\n",
            "    where : array_like of bool, optional\n",
            "        Elements to include in the standard deviation.\n",
            "        See `~numpy.ufunc.reduce` for details.\n",
            "\n",
            "        .. versionadded:: 1.20.0\n",
            "\n",
            "    mean : array_like, optional\n",
            "        Provide the mean to prevent its recalculation. The mean should have\n",
            "        a shape as if it was calculated with ``keepdims=True``.\n",
            "        The axis for the calculation of the mean should be the same as used in\n",
            "        the call to this std function.\n",
            "\n",
            "        .. versionadded:: 1.26.0\n",
            "\n",
            "    correction : {int, float}, optional\n",
            "        Array API compatible name for the ``ddof`` parameter. Only one of them\n",
            "        can be provided at the same time.\n",
            "\n",
            "        .. versionadded:: 2.0.0\n",
            "\n",
            "    Returns\n",
            "    -------\n",
            "    standard_deviation : ndarray, see dtype parameter above.\n",
            "        If `out` is None, return a new array containing the standard deviation,\n",
            "        otherwise return a reference to the output array.\n",
            "\n",
            "    See Also\n",
            "    --------\n",
            "    var, mean, nanmean, nanstd, nanvar\n",
            "    :ref:`ufuncs-output-type`\n",
            "\n",
            "    Notes\n",
            "    -----\n",
            "    There are several common variants of the array standard deviation\n",
            "    calculation. Assuming the input `a` is a one-dimensional NumPy array\n",
            "    and ``mean`` is either provided as an argument or computed as\n",
            "    ``a.mean()``, NumPy computes the standard deviation of an array as::\n",
            "\n",
            "        N = len(a)\n",
            "        d2 = abs(a - mean)**2  # abs is for complex `a`\n",
            "        var = d2.sum() / (N - ddof)  # note use of `ddof`\n",
            "        std = var**0.5\n",
            "\n",
            "    Different values of the argument `ddof` are useful in different\n",
            "    contexts. NumPy's default ``ddof=0`` corresponds with the expression:\n",
            "\n",
            "    .. math::\n",
            "\n",
            "        \\sqrt{\\frac{\\sum_i{|a_i - \\bar{a}|^2 }}{N}}\n",
            "\n",
            "    which is sometimes called the \"population standard deviation\" in the field\n",
            "    of statistics because it applies the definition of standard deviation to\n",
            "    `a` as if `a` were a complete population of possible observations.\n",
            "\n",
            "    Many other libraries define the standard deviation of an array\n",
            "    differently, e.g.:\n",
            "\n",
            "    .. math::\n",
            "\n",
            "        \\sqrt{\\frac{\\sum_i{|a_i - \\bar{a}|^2 }}{N - 1}}\n",
            "\n",
            "    In statistics, the resulting quantity is sometimed called the \"sample\n",
            "    standard deviation\" because if `a` is a random sample from a larger\n",
            "    population, this calculation provides the square root of an unbiased\n",
            "    estimate of the variance of the population. The use of :math:`N-1` in the\n",
            "    denominator is often called \"Bessel's correction\" because it corrects for\n",
            "    bias (toward lower values) in the variance estimate introduced when the\n",
            "    sample mean of `a` is used in place of the true mean of the population.\n",
            "    The resulting estimate of the standard deviation is still biased, but less\n",
            "    than it would have been without the correction. For this quantity, use\n",
            "    ``ddof=1``.\n",
            "\n",
            "    Note that, for complex numbers, `std` takes the absolute\n",
            "    value before squaring, so that the result is always real and nonnegative.\n",
            "\n",
            "    For floating-point input, the standard deviation is computed using the same\n",
            "    precision the input has. Depending on the input data, this can cause\n",
            "    the results to be inaccurate, especially for float32 (see example below).\n",
            "    Specifying a higher-accuracy accumulator using the `dtype` keyword can\n",
            "    alleviate this issue.\n",
            "\n",
            "    Examples\n",
            "    --------\n",
            "    >>> a = np.array([[1, 2], [3, 4]])\n",
            "    >>> np.std(a)\n",
            "    1.1180339887498949 # may vary\n",
            "    >>> np.std(a, axis=0)\n",
            "    array([1.,  1.])\n",
            "    >>> np.std(a, axis=1)\n",
            "    array([0.5,  0.5])\n",
            "\n",
            "    In single precision, std() can be inaccurate:\n",
            "\n",
            "    >>> a = np.zeros((2, 512*512), dtype=np.float32)\n",
            "    >>> a[0, :] = 1.0\n",
            "    >>> a[1, :] = 0.1\n",
            "    >>> np.std(a)\n",
            "    0.45000005\n",
            "\n",
            "    Computing the standard deviation in float64 is more accurate:\n",
            "\n",
            "    >>> np.std(a, dtype=np.float64)\n",
            "    0.44999999925494177 # may vary\n",
            "\n",
            "    Specifying a where argument:\n",
            "\n",
            "    >>> a = np.array([[14, 8, 11, 10], [7, 9, 10, 11], [10, 15, 5, 10]])\n",
            "    >>> np.std(a)\n",
            "    2.614064523559687 # may vary\n",
            "    >>> np.std(a, where=[[True], [True], [False]])\n",
            "    2.0\n",
            "\n",
            "    Using the mean keyword to save computation time:\n",
            "\n",
            "    >>> import numpy as np\n",
            "    >>> from timeit import timeit\n",
            "    >>> a = np.array([[14, 8, 11, 10], [7, 9, 10, 11], [10, 15, 5, 10]])\n",
            "    >>> mean = np.mean(a, axis=1, keepdims=True)\n",
            "    >>>\n",
            "    >>> g = globals()\n",
            "    >>> n = 10000\n",
            "    >>> t1 = timeit(\"std = np.std(a, axis=1, mean=mean)\", globals=g, number=n)\n",
            "    >>> t2 = timeit(\"std = np.std(a, axis=1)\", globals=g, number=n)\n",
            "    >>> print(f'Percentage execution time saved {100*(t2-t1)/t2:.0f}%')\n",
            "    #doctest: +SKIP\n",
            "    Percentage execution time saved 30%\n",
            "\n"
          ]
        }
      ],
      "source": [
        "help(np.std)\n"
      ]
    },
    {
      "cell_type": "code",
      "execution_count": null,
      "metadata": {
        "colab": {
          "base_uri": "https://localhost:8080/"
        },
        "id": "sKyNu8T939NP",
        "outputId": "5f806b31-b1f9-4d7b-9087-397e6dcd0b50"
      },
      "outputs": [
        {
          "output_type": "execute_result",
          "data": {
            "text/plain": [
              "np.float64(1.0740053227518152)"
            ]
          },
          "metadata": {},
          "execution_count": 10
        }
      ],
      "source": [
        "np.std(samples, ddof=1)"
      ]
    },
    {
      "cell_type": "markdown",
      "metadata": {
        "id": "MVJKSr7t39NP"
      },
      "source": [
        "### Summary of section"
      ]
    },
    {
      "cell_type": "markdown",
      "metadata": {
        "id": "TL7HEqIi39NP"
      },
      "source": [
        "In this section, you've been introduced to the scipy.stats package and used it to draw a small sample from the standard normal distribution. You've calculated the average (the mean) of this sample and seen that this is not exactly equal to the expected population parameter (which we know because we're generating the random variates from a specific, known distribution). You've been introduced to two ways of calculating the standard deviation; one uses $n$ in the denominator and the other uses $n-1$ (Bessel's correction). You've also seen which of these calculations np.std() performs by default and how to get it to generate the other."
      ]
    },
    {
      "cell_type": "markdown",
      "metadata": {
        "id": "01E5tWN039NP"
      },
      "source": [
        "You use $n$ as the denominator if you want to calculate the standard deviation of a sequence of numbers. You use $n-1$ if you are using this sequence of numbers to estimate the population parameter. This brings us to some terminology that can be a little confusing.\n",
        "\n",
        "The population parameter is traditionally written as $\\sigma$ and the sample statistic as $s$. Rather unhelpfully, $s$ is also called the sample standard deviation (using $n-1$) whereas the standard deviation of the sample uses $n$. That's right, we have the sample standard deviation and the standard deviation of the sample and they're not the same thing!\n",
        "\n",
        "The sample standard deviation\n",
        "\\begin{equation}\n",
        "s = \\sqrt{\\frac{\\sum_i(x_i - \\bar{x})^2}{n-1}} \\approx \\sigma,\n",
        "\\end{equation}\n",
        "is our best (unbiased) estimate of the population parameter ($\\sigma$).\n",
        "\n",
        "If your dataset _is_ your entire population, you simply want to calculate the population parameter, $\\sigma$, via\n",
        "\\begin{equation}\n",
        "\\sigma = \\sqrt{\\frac{\\sum_i(x_i - \\bar{x})^2}{n}}\n",
        "\\end{equation}\n",
        "as you have complete, full knowledge of your population. In other words, your sample _is_ your population. It's worth noting that we're dealing with what Professor Spiegehalter describes on p. 92 of *AoS* as a **metaphorical population**: we have all the data, and we act as if the data-point is taken from a population at random. We can think of this population as an imaginary space of possibilities.\n",
        "\n",
        "If, however, you have sampled _from_ your population, you only have partial knowledge of the state of your population. In this case, the standard deviation of your sample is not an unbiased estimate of the standard deviation of the population, in which case you seek to estimate that population parameter via the sample standard deviation, which uses the $n-1$ denominator."
      ]
    },
    {
      "cell_type": "markdown",
      "metadata": {
        "id": "l0FA_sm639NP"
      },
      "source": [
        "Great work so far! Now let's dive deeper."
      ]
    },
    {
      "cell_type": "markdown",
      "metadata": {
        "id": "sRUZ13AG39NP"
      },
      "source": [
        "## 3. Sampling distributions"
      ]
    },
    {
      "cell_type": "markdown",
      "metadata": {
        "id": "W9fGslX-39NP"
      },
      "source": [
        "So far we've been dealing with the concept of taking a sample from a population to infer the population parameters. One statistic we calculated for a sample was the mean. As our samples will be expected to vary from one draw to another, so will our sample statistics. If we were to perform repeat draws of size $n$ and calculate the mean of each, we would expect to obtain a distribution of values. This is the sampling distribution of the mean. **The Central Limit Theorem (CLT)** tells us that such a distribution will approach a normal distribution as $n$ increases (the intuitions behind the CLT are covered in full on p. 236 of *AoS*). For the sampling distribution of the mean, the standard deviation of this distribution is given by\n",
        "\n",
        "\\begin{equation}\n",
        "\\sigma_{mean} = \\frac{\\sigma}{\\sqrt n}\n",
        "\\end{equation}\n",
        "\n",
        "where $\\sigma_{mean}$ is the standard deviation of the sampling distribution of the mean and $\\sigma$ is the standard deviation of the population (the population parameter)."
      ]
    },
    {
      "cell_type": "markdown",
      "metadata": {
        "id": "DHumNQ-N39NP"
      },
      "source": [
        "This is important because typically we are dealing with samples from populations and all we know about the population is what we see in the sample. From this sample, we want to make inferences about the population. We may do this, for example, by looking at the histogram of the values and by calculating the mean and standard deviation (as estimates of the population parameters), and so we are intrinsically interested in how these quantities vary across samples.\n",
        "\n",
        "In other words, now that we've taken one sample of size $n$ and made some claims about the general population, what if we were to take another sample of size $n$? Would we get the same result? Would we make the same claims about the general population? This brings us to a fundamental question: _when we make some inference about a population based on our sample, how confident can we be that we've got it 'right'?_\n",
        "\n",
        "We need to think about **estimates and confidence intervals**: those concepts covered in Chapter 7, p. 189, of *AoS*."
      ]
    },
    {
      "cell_type": "markdown",
      "metadata": {
        "id": "JZwbHmn439NQ"
      },
      "source": [
        "Now, the standard normal distribution (with its variance equal to its standard deviation of one) would not be a great illustration of a key point. Instead, let's imagine we live in a town of 50,000 people and we know the height of everyone in this town. We will have 50,000 numbers that tell us everything about our population. We'll simulate these numbers now and put ourselves in one particular town, called 'town 47', where the population mean height is 172 cm and population standard deviation is 5 cm."
      ]
    },
    {
      "cell_type": "code",
      "execution_count": null,
      "metadata": {
        "id": "Oipd_nFJ39NS"
      },
      "outputs": [],
      "source": [
        "seed(47)\n",
        "pop_heights = norm.rvs(172, 5, size=50000)"
      ]
    },
    {
      "cell_type": "code",
      "execution_count": null,
      "metadata": {
        "id": "4iiZR5F039NS",
        "outputId": "e0740b97-003d-44b3-bcad-54d1dcb31e0b",
        "colab": {
          "base_uri": "https://localhost:8080/",
          "height": 472
        }
      },
      "outputs": [
        {
          "output_type": "display_data",
          "data": {
            "text/plain": [
              "<Figure size 640x480 with 1 Axes>"
            ],
            "image/png": "[encoded data removed]"
          },
          "metadata": {}
        }
      ],
      "source": [
        "_ = plt.hist(pop_heights, bins=30)\n",
        "_ = plt.xlabel('height (cm)')\n",
        "_ = plt.ylabel('number of people')\n",
        "_ = plt.title('Distribution of heights in entire town population')\n",
        "_ = plt.axvline(172, color='r')\n",
        "_ = plt.axvline(172+5, color='r', linestyle='--')\n",
        "_ = plt.axvline(172-5, color='r', linestyle='--')\n",
        "_ = plt.axvline(172+10, color='r', linestyle='-.')\n",
        "_ = plt.axvline(172-10, color='r', linestyle='-.')"
      ]
    },
    {
      "cell_type": "markdown",
      "metadata": {
        "id": "AWJx7Srv39NS"
      },
      "source": [
        "Now, 50,000 people is rather a lot to chase after with a tape measure. If all you want to know is the average height of the townsfolk, then can you just go out and measure a sample to get a pretty good estimate of the average height?"
      ]
    },
    {
      "cell_type": "code",
      "execution_count": null,
      "metadata": {
        "id": "aA8NHZtx39NT"
      },
      "outputs": [],
      "source": [
        "def townsfolk_sampler(n):\n",
        "    return np.random.choice(pop_heights, n)"
      ]
    },
    {
      "cell_type": "markdown",
      "metadata": {
        "id": "PRojcIui39NT"
      },
      "source": [
        "Let's say you go out one day and randomly sample 10 people to measure."
      ]
    },
    {
      "cell_type": "code",
      "execution_count": null,
      "metadata": {
        "id": "UR3NkaAz39NT"
      },
      "outputs": [],
      "source": [
        "seed(47)\n",
        "daily_sample1 = townsfolk_sampler(10)"
      ]
    },
    {
      "cell_type": "code",
      "execution_count": null,
      "metadata": {
        "id": "5lyqV3V239NT",
        "outputId": "4a2ffa26-eff0-4027-d748-71121870a017",
        "colab": {
          "base_uri": "https://localhost:8080/",
          "height": 472
        }
      },
      "outputs": [
        {
          "output_type": "display_data",
          "data": {
            "text/plain": [
              "<Figure size 640x480 with 1 Axes>"
            ],
            "image/png": "[encoded data removed]"
          },
          "metadata": {}
        }
      ],
      "source": [
        "_ = plt.hist(daily_sample1, bins=10)\n",
        "_ = plt.xlabel('height (cm)')\n",
        "_ = plt.ylabel('number of people')\n",
        "_ = plt.title('Distribution of heights in sample size 10')"
      ]
    },
    {
      "cell_type": "markdown",
      "metadata": {
        "id": "Or87X9uO39NT"
      },
      "source": [
        "The sample distribution doesn't resemble what we take the population distribution to be. What do we get for the mean?"
      ]
    },
    {
      "cell_type": "code",
      "execution_count": null,
      "metadata": {
        "id": "txoTG26F39NT",
        "outputId": "489c6081-9cfc-47b5-9a00-76ac557a0505",
        "colab": {
          "base_uri": "https://localhost:8080/"
        }
      },
      "outputs": [
        {
          "output_type": "execute_result",
          "data": {
            "text/plain": [
              "np.float64(173.47911444163503)"
            ]
          },
          "metadata": {},
          "execution_count": 16
        }
      ],
      "source": [
        "np.mean(daily_sample1)"
      ]
    },
    {
      "cell_type": "markdown",
      "metadata": {
        "id": "LbaXcz4j39NT"
      },
      "source": [
        "And if we went out and repeated this experiment?"
      ]
    },
    {
      "cell_type": "code",
      "execution_count": null,
      "metadata": {
        "id": "2Gi6pB8c39NT"
      },
      "outputs": [],
      "source": [
        "daily_sample2 = townsfolk_sampler(10)"
      ]
    },
    {
      "cell_type": "code",
      "execution_count": null,
      "metadata": {
        "id": "ydvl0pX039NT",
        "outputId": "2fb5ea75-d5ce-483f-8296-298ca8f809d6",
        "colab": {
          "base_uri": "https://localhost:8080/"
        }
      },
      "outputs": [
        {
          "output_type": "execute_result",
          "data": {
            "text/plain": [
              "np.float64(173.7317666636263)"
            ]
          },
          "metadata": {},
          "execution_count": 18
        }
      ],
      "source": [
        "np.mean(daily_sample2)"
      ]
    },
    {
      "cell_type": "markdown",
      "metadata": {
        "id": "0G9r9Aw_39NU"
      },
      "source": [
        "__Q8:__ Simulate performing this random trial every day for a year, calculating the mean of each daily sample of 10, and plot the resultant sampling distribution of the mean."
      ]
    },
    {
      "cell_type": "markdown",
      "metadata": {
        "id": "T1NtkfJn39NU"
      },
      "source": [
        "__A:__"
      ]
    },
    {
      "cell_type": "code",
      "execution_count": null,
      "metadata": {
        "id": "2dTaKN2b39NU"
      },
      "outputs": [],
      "source": [
        "mu = 3.0\n",
        "sigma = 1.5\n",
        "n = 10\n",
        "days = 365"
      ]
    },
    {
      "cell_type": "code",
      "execution_count": null,
      "metadata": {
        "id": "Xen3gJYQ39NU"
      },
      "outputs": [],
      "source": [
        "seed(47)\n",
        "# take your samples here\n",
        "daily_means = []\n",
        "for day in range(days):\n",
        "    sample = norm.rvs(loc=mu, scale=sigma, size=n)\n",
        "\n",
        "    mean_value = np.mean(sample)\n",
        "\n",
        "    daily_means.append(mean_value)"
      ]
    },
    {
      "cell_type": "code",
      "execution_count": null,
      "metadata": {
        "id": "ylYuDbM-39NU",
        "colab": {
          "base_uri": "https://localhost:8080/",
          "height": 430
        },
        "outputId": "a176c945-3916-45b3-8cc7-e94a1b97d7d6"
      },
      "outputs": [
        {
          "output_type": "display_data",
          "data": {
            "text/plain": [
              "<Figure size 640x480 with 1 Axes>"
            ],
            "image/png": "[encoded data removed]"
          },
          "metadata": {}
        }
      ],
      "source": [
        "plt.figure()\n",
        "plt.hist(daily_means, bins=30, density=True)\n",
        "plt.show()"
      ]
    },
    {
      "cell_type": "markdown",
      "metadata": {
        "id": "6yOghfMJ39NU"
      },
      "source": [
        "The above is the distribution of the means of samples of size 10 taken from our population. The Central Limit Theorem tells us the expected mean of this distribution will be equal to the population mean, and standard deviation will be $\\sigma / \\sqrt n$, which, in this case, should be approximately 1.58."
      ]
    },
    {
      "cell_type": "markdown",
      "metadata": {
        "id": "CH0We7dP39NU"
      },
      "source": [
        "__Q9:__ Verify the above results from the CLT."
      ]
    },
    {
      "cell_type": "markdown",
      "metadata": {
        "id": "O_VJTAuv39NU"
      },
      "source": [
        "__A:__"
      ]
    },
    {
      "cell_type": "code",
      "execution_count": null,
      "metadata": {
        "id": "fVSlRabk39NU"
      },
      "outputs": [],
      "source": [
        "exp_mean= np.mean(daily_means)\n",
        "exp_se = np.std(daily_means, ddof=1)   # sample std\n",
        "\n",
        "theory_mean = mu\n",
        "theory_se= sigma / np.sqrt(n)\n"
      ]
    },
    {
      "cell_type": "code",
      "execution_count": null,
      "metadata": {
        "id": "JH1w3V-239NU",
        "colab": {
          "base_uri": "https://localhost:8080/"
        },
        "outputId": "008878c5-599a-459f-8463-ed4db7de1437"
      },
      "outputs": [
        {
          "output_type": "stream",
          "name": "stdout",
          "text": [
            "exp_mean :   2.9866\n",
            "theory_mean:      3.0000\n",
            "exp_se :     0.4770\n",
            "theory_se:        0.4743\n"
          ]
        }
      ],
      "source": [
        "print(f\"exp_mean :   {exp_mean:.4f}\")\n",
        "print(f\"theory_mean:      {theory_mean:.4f}\")\n",
        "print(f\"exp_se :     {exp_se:.4f}\")\n",
        "print(f\"theory_se:        {theory_se:.4f}\")"
      ]
    },
    {
      "cell_type": "markdown",
      "metadata": {
        "id": "BSji6kQb39NU"
      },
      "source": [
        "Remember, in this instance, we knew our population parameters, that the average height really is 172 cm and the standard deviation is 5 cm, and we see some of our daily estimates of the population mean were as low as around 168 and some as high as 176."
      ]
    },
    {
      "cell_type": "markdown",
      "metadata": {
        "id": "i7Nbp_8739NU"
      },
      "source": [
        "__Q10:__ Repeat the above year's worth of samples but for a sample size of 50 (perhaps you had a bigger budget for conducting surveys that year)! Would you expect your distribution of sample means to be wider (more variable) or narrower (more consistent)? Compare your resultant summary statistics to those predicted by the CLT."
      ]
    },
    {
      "cell_type": "markdown",
      "metadata": {
        "id": "tNsdwhOi39NU"
      },
      "source": [
        "__A:__"
      ]
    },
    {
      "cell_type": "code",
      "execution_count": null,
      "metadata": {
        "id": "0aHmhmKQ39NU"
      },
      "outputs": [],
      "source": [
        "seed(47)\n",
        "# calculate daily means from the larger sample size here\n",
        "\n",
        "mu = 3.0\n",
        "sigma = 1.5\n",
        "n = 50\n",
        "days = 365\n",
        "\n",
        "daily_means_50 = [np.mean(norm.rvs(loc=mu, scale=sigma, size=n)) for _ in range(days)]\n",
        "\n",
        "exp_mean_50 = np.mean(daily_means_50)\n",
        "exp_se_50 = np.std(daily_means_50, ddof=1)\n",
        "theory_mean_50 = mu\n",
        "theory_se_50 = sigma / np.sqrt(n)\n"
      ]
    },
    {
      "cell_type": "code",
      "execution_count": null,
      "metadata": {
        "id": "iuWbmpMM39NV",
        "colab": {
          "base_uri": "https://localhost:8080/"
        },
        "outputId": "8eb67ff8-194a-4b35-aa78-59e8ddf54971"
      },
      "outputs": [
        {
          "output_type": "stream",
          "name": "stdout",
          "text": [
            "Empirical mean (n=50): 3.0027\n",
            "Theory mean (n=50): 3.0000\n",
            "Empirical SE (n=50): 0.2278\n",
            "Theory SE (n=50): 0.2121\n"
          ]
        }
      ],
      "source": [
        "print(f\"Empirical mean (n=50): {exp_mean_50:.4f}\")\n",
        "print(f\"Theory mean (n=50): {theory_mean_50:.4f}\")\n",
        "print(f\"Empirical SE (n=50): {exp_se_50:.4f}\")\n",
        "print(f\"Theory SE (n=50): {theory_se_50:.4f}\")"
      ]
    },
    {
      "cell_type": "markdown",
      "metadata": {
        "id": "T7uAdWcF39NV"
      },
      "source": [
        "What we've seen so far, then, is that we can estimate population parameters from a sample from the population, and that samples have their own distributions. Furthermore, the larger the sample size, the narrower are those sampling distributions."
      ]
    },
    {
      "cell_type": "markdown",
      "source": [],
      "metadata": {
        "id": "CU-46BqEc7EE"
      }
    },
    {
      "cell_type": "markdown",
      "metadata": {
        "id": "d2LwsYXO39NV"
      },
      "source": [
        "### Normally testing time!"
      ]
    },
    {
      "cell_type": "markdown",
      "metadata": {
        "id": "YzECKaOp39NV"
      },
      "source": [
        "All of the above is well and good. We've been sampling from a population we know is normally distributed, we've come to understand when to use $n$ and when to use $n-1$ in the denominator to calculate the spread of a distribution, and we've  seen the Central Limit Theorem in action for a sampling distribution. All seems very well behaved in Frequentist land. But, well, why should we really care?"
      ]
    },
    {
      "cell_type": "markdown",
      "metadata": {
        "id": "ptUS9o8O39NV"
      },
      "source": [
        "Remember, we rarely (if ever) actually know our population parameters but we still have to estimate them somehow. If we want to make inferences to conclusions like \"this observation is unusual\" or \"my population mean has changed\" then we need to have some idea of what the underlying distribution is so we can calculate relevant probabilities. In frequentist inference, we use the formulae above to deduce these population parameters. Take a moment in the next part of this assignment to refresh your understanding of how these probabilities work."
      ]
    },
    {
      "cell_type": "markdown",
      "metadata": {
        "id": "Aq6jNqbZ39NV"
      },
      "source": [
        "Recall some basic properties of the standard normal distribution, such as that about 68% of observations are within plus or minus 1 standard deviation of the mean. Check out the precise definition of a normal distribution on p. 394 of *AoS*.\n",
        "\n",
        "__Q11:__ Using this fact, calculate the probability of observing the value 1 or less in a single observation from the standard normal distribution. Hint: you may find it helpful to sketch the standard normal distribution (the familiar bell shape) and mark the number of standard deviations from the mean on the x-axis and shade the regions of the curve that contain certain percentages of the population."
      ]
    },
    {
      "cell_type": "markdown",
      "metadata": {
        "id": "ZYg3wGp939NV"
      },
      "source": [
        "__A:__\n",
        "\n",
        "We know that about 68% of the values in a standard normal distribution lie within ±1 standard deviation.\n",
        "That leaves 1 – 0.68 = 0.32 (32%) of the values outside this range.\n",
        "Since the normal distribution is symmetric, half of that (0.32 ÷ 2 = 0.16 or 16%) is in the lower tail.\n",
        "Therefore, the probability of being less than or equal to 1 is:\n",
        "1 – 0.16 = 0.84 (84%).\n",
        "\n",
        "This agrees closely with the exact CDF value of 0.8413."
      ]
    },
    {
      "cell_type": "markdown",
      "metadata": {
        "id": "mTNWy2NI39NV"
      },
      "source": [
        "Calculating this probability involved calculating the area under the curve from the value of 1 and below. To put it in mathematical terms, we need to *integrate* the probability density function. We could just add together the known areas of chunks (from -Inf to 0 and then 0 to $+\\sigma$ in the example above). One way to do this is to look up tables (literally). Fortunately, scipy has this functionality built in with the cdf() function."
      ]
    },
    {
      "cell_type": "markdown",
      "metadata": {
        "id": "6HeTGl_w39NV"
      },
      "source": [
        "__Q12:__ Use the cdf() function to answer the question above again and verify you get the same answer."
      ]
    },
    {
      "cell_type": "markdown",
      "metadata": {
        "id": "NrVAHxTm39NV"
      },
      "source": [
        "__A:__"
      ]
    },
    {
      "cell_type": "code",
      "execution_count": null,
      "metadata": {
        "id": "wrw7e0Ex39NV",
        "colab": {
          "base_uri": "https://localhost:8080/"
        },
        "outputId": "aee4ba55-6f04-40ff-dea9-740e95c54391"
      },
      "outputs": [
        {
          "output_type": "execute_result",
          "data": {
            "text/plain": [
              "np.float64(0.8413447460685429)"
            ]
          },
          "metadata": {},
          "execution_count": 36
        }
      ],
      "source": [
        "p_less1 = norm.cdf(1)   # standard normal: mean=0, std=1\n",
        "p_less1"
      ]
    },
    {
      "cell_type": "markdown",
      "metadata": {
        "id": "F3SDU5og39NV"
      },
      "source": [
        "__Q13:__ Using our knowledge of the population parameters for our townsfolks' heights, what is the probability of selecting one person at random and their height being 177 cm or less? Calculate this using both of the approaches given above."
      ]
    },
    {
      "cell_type": "markdown",
      "metadata": {
        "id": "f1H1WrSN39NV"
      },
      "source": [
        "__A:__"
      ]
    },
    {
      "cell_type": "code",
      "execution_count": null,
      "metadata": {
        "id": "MMQjbiKj39NW",
        "colab": {
          "base_uri": "https://localhost:8080/"
        },
        "outputId": "9b72bb36-ef77-4ae2-f38f-1fce1a7e8fbb"
      },
      "outputs": [
        {
          "output_type": "stream",
          "name": "stdout",
          "text": [
            "Z-score: 1.00\n",
            "P(X <= 177): 0.8413\n"
          ]
        }
      ],
      "source": [
        "mu = 172\n",
        "sigma = 5\n",
        "x = 177\n",
        "# Z-score\n",
        "z = (x - mu) / sigma\n",
        "# Exact probability using CDF\n",
        "p_less177 = norm.cdf(z)\n",
        "print(f\"Z-score: {z:.2f}\")\n",
        "print(f\"P(X <= 177): {p_less177:.4f}\")"
      ]
    },
    {
      "cell_type": "markdown",
      "metadata": {
        "id": "OpPsrCWU39NW"
      },
      "source": [
        "__Q14:__ Turning this question around — suppose we randomly pick one person and measure their height and find they are 2.00 m tall. How surprised should we be at this result, given what we know about the population distribution? In other words, how likely would it be to obtain a value at least as extreme as this? Express this as a probability."
      ]
    },
    {
      "cell_type": "markdown",
      "metadata": {
        "id": "NAeOIN_A39NW"
      },
      "source": [
        "__A:__"
      ]
    },
    {
      "cell_type": "code",
      "execution_count": null,
      "metadata": {
        "id": "eeXJuAL539NW",
        "colab": {
          "base_uri": "https://localhost:8080/"
        },
        "outputId": "13df75b3-67f9-4236-e75e-5b99883f0f56"
      },
      "outputs": [
        {
          "output_type": "stream",
          "name": "stdout",
          "text": [
            "Z-score: 5.60\n",
            "P(X >= 200): 0.000000011\n"
          ]
        }
      ],
      "source": [
        "mu = 172\n",
        "sigma = 5\n",
        "x = 200\n",
        "# Z-score\n",
        "z = (x - mu) / sigma\n",
        "# Probability of being >= 200 cm\n",
        "p_greater200 = 1 - norm.cdf(z)\n",
        "print(f\"Z-score: {z:.2f}\")\n",
        "print(f\"P(X >= 200): {p_greater200:.9f}\")\n"
      ]
    },
    {
      "cell_type": "markdown",
      "metadata": {
        "id": "8lvF4Zwk39NW"
      },
      "source": [
        "What we've just done is calculate the ***p-value*** of the observation of someone 2.00m tall (review *p*-values if you need to on p. 399 of *AoS*). We could calculate this probability by virtue of knowing the population parameters. We were then able to use the known properties of the relevant normal distribution to calculate the probability of observing a value at least as extreme as our test value."
      ]
    },
    {
      "cell_type": "markdown",
      "metadata": {
        "id": "4FFEXjdH39NW"
      },
      "source": [
        "We're about to come to a pinch, though. We've said a couple of times that we rarely, if ever, know the true population parameters; we have to estimate them from our sample and we cannot even begin to estimate the standard deviation from a single observation.\n",
        "\n",
        "This is very true and usually we have sample sizes larger than one. This means we can calculate the mean of the sample as our best estimate of the population mean and the standard deviation as our best estimate of the population standard deviation.\n",
        "\n",
        "In other words, we are now coming to deal with the sampling distributions we mentioned above as we are generally concerned with the properties of the sample means we obtain.\n",
        "\n",
        "Above, we highlighted one result from the CLT, whereby the sampling distribution (of the mean) becomes narrower and narrower with the square root of the sample size. We remind ourselves that another result from the CLT is that _even if the underlying population distribution is not normal, the sampling distribution will tend to become normal with sufficiently large sample size_. (**Check out p. 199 of AoS if you need to revise this**). This is the key driver for us 'requiring' a certain sample size, for example you may frequently see a minimum sample size of 30 stated in many places. In reality this is simply a rule of thumb; if the underlying distribution is approximately normal then your sampling distribution will already be pretty normal, but if the underlying distribution is heavily skewed then you'd want to increase your sample size."
      ]
    },
    {
      "cell_type": "markdown",
      "metadata": {
        "id": "5LAzqUvT39NW"
      },
      "source": [
        "__Q15:__ Let's now start from the position of knowing nothing about the heights of people in our town.\n",
        "* Use the random seed of 47, to randomly sample the heights of 50 townsfolk\n",
        "* Estimate the population mean using np.mean\n",
        "* Estimate the population standard deviation using np.std (remember which denominator to use!)\n",
        "* Calculate the (95%) [margin of error](https://www.statisticshowto.datasciencecentral.com/probability-and-statistics/hypothesis-testing/margin-of-error/#WhatMofE) (use the exact critial z value to 2 decimal places - [look this up](https://www.statisticshowto.datasciencecentral.com/probability-and-statistics/find-critical-values/) or use norm.ppf()) Recall that the ***margin of error*** is mentioned on p. 189 of the *AoS* and discussed in depth in that chapter).\n",
        "* Calculate the 95% Confidence Interval of the mean (***confidence intervals*** are defined on p. 385 of *AoS*)\n",
        "* Does this interval include the true population mean?"
      ]
    },
    {
      "cell_type": "markdown",
      "metadata": {
        "id": "1lJncx6F39NW"
      },
      "source": [
        "__A:__"
      ]
    },
    {
      "cell_type": "code",
      "execution_count": null,
      "metadata": {
        "id": "2e28Y1St39NW"
      },
      "outputs": [],
      "source": [
        "seed(47)\n",
        "# take your sample now\n",
        "mu_true = 172\n",
        "sigma_true = 5\n",
        "n = 50\n",
        "sample = norm.rvs(loc=mu_true, scale=sigma_true, size=n)"
      ]
    },
    {
      "cell_type": "code",
      "execution_count": null,
      "metadata": {
        "id": "WqjOBiLP39NW",
        "colab": {
          "base_uri": "https://localhost:8080/"
        },
        "outputId": "f1cb70a8-5768-4701-ff43-88ded9a28a99"
      },
      "outputs": [
        {
          "output_type": "execute_result",
          "data": {
            "text/plain": [
              "(np.float64(171.09434218281885), np.float64(4.868476091077329))"
            ]
          },
          "metadata": {},
          "execution_count": 41
        }
      ],
      "source": [
        "xbar = np.mean(sample)                 # sample mean\n",
        "s     = np.std(sample, ddof=1)         # sample std (Bessel-corrected)\n",
        "xbar, s"
      ]
    },
    {
      "cell_type": "code",
      "execution_count": null,
      "metadata": {
        "id": "5QdD86ha39NW",
        "colab": {
          "base_uri": "https://localhost:8080/"
        },
        "outputId": "2eb7cfe9-e516-4190-e38b-23a0e8101f1e"
      },
      "outputs": [
        {
          "output_type": "execute_result",
          "data": {
            "text/plain": [
              "(np.float64(1.959963984540054), np.float64(0.688506491609071))"
            ]
          },
          "metadata": {},
          "execution_count": 42
        }
      ],
      "source": [
        "# Critical z for 95% CI and standard error\n",
        "z_975 = norm.ppf(0.975)   # ≈ 1.96\n",
        "se    = s / np.sqrt(n)\n",
        "z_975, se"
      ]
    },
    {
      "cell_type": "code",
      "execution_count": null,
      "metadata": {
        "id": "7hoA_02s39NX",
        "colab": {
          "base_uri": "https://localhost:8080/"
        },
        "outputId": "228fa507-8f5f-4709-8ea1-36c2b0b8d441"
      },
      "outputs": [
        {
          "output_type": "execute_result",
          "data": {
            "text/plain": [
              "(np.float64(169.74489425614303), np.float64(172.44379010949467))"
            ]
          },
          "metadata": {},
          "execution_count": 43
        }
      ],
      "source": [
        "# Margin of Error (MoE) and 95% CI using z\n",
        "moe_z = z_975 * se\n",
        "ci_low_z  = xbar - moe_z\n",
        "ci_high_z = xbar + moe_z\n",
        "(ci_low_z, ci_high_z)"
      ]
    },
    {
      "cell_type": "code",
      "execution_count": null,
      "metadata": {
        "id": "PLaFft0n39NX",
        "colab": {
          "base_uri": "https://localhost:8080/"
        },
        "outputId": "a903ff2c-8678-4af7-c98a-d59e9a5a984d"
      },
      "outputs": [
        {
          "output_type": "stream",
          "name": "stdout",
          "text": [
            "Sample mean (x):171.094\n",
            "Sample std (s):4.868\n",
            "SE (s/√n): 0.689\n",
            "z(0.975): 1.960\n",
            "MoE (z * SE):  1.349\n",
            "95% CI (z-based): [169.745, 172.444]\n"
          ]
        }
      ],
      "source": [
        "print(f\"Sample mean (x):{xbar:.3f}\")\n",
        "print(f\"Sample std (s):{s:.3f}\")\n",
        "print(f\"SE (s/√n): {se:.3f}\")\n",
        "print(f\"z(0.975): {z_975:.3f}\")\n",
        "print(f\"MoE (z * SE):  {moe_z:.3f}\")\n",
        "print(f\"95% CI (z-based): [{ci_low_z:.3f}, {ci_high_z:.3f}]\")"
      ]
    },
    {
      "cell_type": "markdown",
      "metadata": {
        "id": "Y7E7xBsp39NX"
      },
      "source": [
        "__Q16:__ Above, we calculated the confidence interval using the critical z value. What is the problem with this? What requirement, or requirements, are we (strictly) failing?"
      ]
    },
    {
      "cell_type": "markdown",
      "metadata": {
        "id": "UHU0YhE239NX"
      },
      "source": [
        "__A:__\n",
        "\n",
        "Using the z value is only correct if we know the true population standard deviation σ. In our case, we do not know σ and we used the sample standard deviation s instead. This breaks the rule for using z.\n",
        "\n",
        "The proper method is to use the t distribution when σ is unknown, especially for smaller samples. It also requires that the data are random, independent, and come from a roughly normal population."
      ]
    },
    {
      "cell_type": "markdown",
      "metadata": {
        "id": "tLb4t7lt39NX"
      },
      "source": [
        "__Q17:__ Calculate the 95% confidence interval for the mean using the _t_ distribution. Is this wider or narrower than that based on the normal distribution above? If you're unsure, you may find this [resource](https://www.statisticshowto.datasciencecentral.com/probability-and-statistics/confidence-interval/) useful. For calculating the critical value, remember how you could calculate this for the normal distribution using norm.ppf()."
      ]
    },
    {
      "cell_type": "markdown",
      "metadata": {
        "id": "cI8zaKan39NX"
      },
      "source": [
        "__A:__"
      ]
    },
    {
      "cell_type": "code",
      "execution_count": null,
      "metadata": {
        "id": "mDn9Aqaq39NX",
        "colab": {
          "base_uri": "https://localhost:8080/"
        },
        "outputId": "e67f552f-2d93-4c6c-8342-8f5a51853d12"
      },
      "outputs": [
        {
          "output_type": "execute_result",
          "data": {
            "text/plain": [
              "(np.float64(2.0095752371292397), np.float64(0.688506491609071))"
            ]
          },
          "metadata": {},
          "execution_count": 46
        }
      ],
      "source": [
        "df = n - 1\n",
        "t_975 = t.ppf(0.975, df=df)\n",
        "se = s / np.sqrt(n)\n",
        "t_975, se"
      ]
    },
    {
      "cell_type": "code",
      "execution_count": null,
      "metadata": {
        "id": "67p98yW039NX",
        "colab": {
          "base_uri": "https://localhost:8080/"
        },
        "outputId": "85a91071-6e23-419d-c705-e75ffad2a071"
      },
      "outputs": [
        {
          "output_type": "execute_result",
          "data": {
            "text/plain": [
              "np.float64(1.3836055961403197)"
            ]
          },
          "metadata": {},
          "execution_count": 47
        }
      ],
      "source": [
        "moe_t = t_975 * se\n",
        "moe_t"
      ]
    },
    {
      "cell_type": "code",
      "execution_count": null,
      "metadata": {
        "id": "YikHIBEC39NX",
        "colab": {
          "base_uri": "https://localhost:8080/"
        },
        "outputId": "92681f35-51fa-4f6b-af17-cb92fc513822"
      },
      "outputs": [
        {
          "output_type": "stream",
          "name": "stdout",
          "text": [
            "95% CI (t-based): [169.711, 172.478]\n"
          ]
        }
      ],
      "source": [
        "ci_low_t  = xbar - moe_t\n",
        "ci_high_t = xbar + moe_t\n",
        "print(f\"95% CI (t-based): [{ci_low_t:.3f}, {ci_high_t:.3f}]\")"
      ]
    },
    {
      "cell_type": "markdown",
      "metadata": {
        "id": "4SE2kbgP39NX"
      },
      "source": [
        "This is slightly wider than the previous confidence interval. This reflects the greater uncertainty given that we are estimating population parameters from a sample."
      ]
    },
    {
      "cell_type": "markdown",
      "metadata": {
        "id": "Ax_oB42m39NX"
      },
      "source": [
        "## 4. Learning outcomes"
      ]
    },
    {
      "cell_type": "markdown",
      "metadata": {
        "id": "VLG1pxof39NX"
      },
      "source": [
        "Having completed this project notebook, you now have hands-on experience:\n",
        "* sampling and calculating probabilities from a normal distribution\n",
        "* identifying the correct way to estimate the standard deviation of a population (the population parameter) from a sample\n",
        "* with sampling distribution and now know how the Central Limit Theorem applies\n",
        "* with how to calculate critical values and confidence intervals"
      ]
    },
    {
      "cell_type": "code",
      "execution_count": null,
      "metadata": {
        "id": "XkUswwZQ39NX"
      },
      "outputs": [],
      "source": []
    }
  ],
  "metadata": {
    "kernelspec": {
      "display_name": "Python 3",
      "language": "python",
      "name": "python3"
    },
    "language_info": {
      "codemirror_mode": {
        "name": "ipython",
        "version": 3
      },
      "file_extension": ".py",
      "mimetype": "text/x-python",
      "name": "python",
      "nbconvert_exporter": "python",
      "pygments_lexer": "ipython3",
      "version": "3.7.3"
    },
    "colab": {
      "provenance": []
    }
  },
  "nbformat": 4,
  "nbformat_minor": 0
}